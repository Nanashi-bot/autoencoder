{
 "cells": [
  {
   "cell_type": "code",
   "execution_count": 2,
   "metadata": {
    "colab": {
     "base_uri": "https://localhost:8080/"
    },
    "id": "KL-dhn8ppWHx",
    "outputId": "28de4c41-3f73-49f7-a732-035c922ec2b7"
   },
   "outputs": [
    {
     "name": "stdout",
     "output_type": "stream",
     "text": [
      "Downloading http://yann.lecun.com/exdb/mnist/train-images-idx3-ubyte.gz\n",
      "Failed to download (trying next):\n",
      "HTTP Error 403: Forbidden\n",
      "\n",
      "Downloading https://ossci-datasets.s3.amazonaws.com/mnist/train-images-idx3-ubyte.gz\n",
      "Downloading https://ossci-datasets.s3.amazonaws.com/mnist/train-images-idx3-ubyte.gz to mnist_data/MNIST/raw/train-images-idx3-ubyte.gz\n"
     ]
    },
    {
     "name": "stderr",
     "output_type": "stream",
     "text": [
      "100.0%\n"
     ]
    },
    {
     "name": "stdout",
     "output_type": "stream",
     "text": [
      "Extracting mnist_data/MNIST/raw/train-images-idx3-ubyte.gz to mnist_data/MNIST/raw\n",
      "\n",
      "Downloading http://yann.lecun.com/exdb/mnist/train-labels-idx1-ubyte.gz\n",
      "Failed to download (trying next):\n",
      "HTTP Error 403: Forbidden\n",
      "\n",
      "Downloading https://ossci-datasets.s3.amazonaws.com/mnist/train-labels-idx1-ubyte.gz\n",
      "Downloading https://ossci-datasets.s3.amazonaws.com/mnist/train-labels-idx1-ubyte.gz to mnist_data/MNIST/raw/train-labels-idx1-ubyte.gz\n"
     ]
    },
    {
     "name": "stderr",
     "output_type": "stream",
     "text": [
      "100.0%\n"
     ]
    },
    {
     "name": "stdout",
     "output_type": "stream",
     "text": [
      "Extracting mnist_data/MNIST/raw/train-labels-idx1-ubyte.gz to mnist_data/MNIST/raw\n",
      "\n",
      "Downloading http://yann.lecun.com/exdb/mnist/t10k-images-idx3-ubyte.gz\n",
      "Failed to download (trying next):\n",
      "HTTP Error 403: Forbidden\n",
      "\n",
      "Downloading https://ossci-datasets.s3.amazonaws.com/mnist/t10k-images-idx3-ubyte.gz\n",
      "Downloading https://ossci-datasets.s3.amazonaws.com/mnist/t10k-images-idx3-ubyte.gz to mnist_data/MNIST/raw/t10k-images-idx3-ubyte.gz\n"
     ]
    },
    {
     "name": "stderr",
     "output_type": "stream",
     "text": [
      "100.0%\n"
     ]
    },
    {
     "name": "stdout",
     "output_type": "stream",
     "text": [
      "Extracting mnist_data/MNIST/raw/t10k-images-idx3-ubyte.gz to mnist_data/MNIST/raw\n",
      "\n",
      "Downloading http://yann.lecun.com/exdb/mnist/t10k-labels-idx1-ubyte.gz\n",
      "Failed to download (trying next):\n",
      "HTTP Error 403: Forbidden\n",
      "\n",
      "Downloading https://ossci-datasets.s3.amazonaws.com/mnist/t10k-labels-idx1-ubyte.gz\n",
      "Downloading https://ossci-datasets.s3.amazonaws.com/mnist/t10k-labels-idx1-ubyte.gz to mnist_data/MNIST/raw/t10k-labels-idx1-ubyte.gz\n"
     ]
    },
    {
     "name": "stderr",
     "output_type": "stream",
     "text": [
      "100.0%\n"
     ]
    },
    {
     "name": "stdout",
     "output_type": "stream",
     "text": [
      "Extracting mnist_data/MNIST/raw/t10k-labels-idx1-ubyte.gz to mnist_data/MNIST/raw\n",
      "\n"
     ]
    }
   ],
   "source": [
    "import torch\n",
    "from torchvision import datasets, transforms\n",
    "from torch.utils.data import DataLoader\n",
    "\n",
    "transform = transforms.Compose([transforms.ToTensor()])\n",
    "\n",
    "train_dataset = datasets.MNIST(root='mnist_data', train=True, transform=transform, download=True)\n",
    "test_dataset = datasets.MNIST(root='mnist_data', train=False, transform=transform, download=True)\n",
    "\n",
    "train_loader = DataLoader(dataset=train_dataset, batch_size=64, shuffle=True)\n",
    "test_loader = DataLoader(dataset=test_dataset, batch_size=64, shuffle=False)"
   ]
  },
  {
   "cell_type": "code",
   "execution_count": 3,
   "metadata": {
    "colab": {
     "base_uri": "https://localhost:8080/"
    },
    "id": "_TKWM13dqmLn",
    "outputId": "f3128e24-5770-44e6-d89e-e5c2aa798365"
   },
   "outputs": [
    {
     "name": "stdout",
     "output_type": "stream",
     "text": [
      "torch.Size([64, 1, 28, 28])\n",
      "torch.Size([64])\n"
     ]
    }
   ],
   "source": [
    "images, labels = next(iter(train_loader))\n",
    "print(images.shape)  # (64, 1, 28, 28) -> 64 samples, 1 channel (grayscale), 28x28 size\n",
    "print(labels.shape)  # (64,) -> 64 labels"
   ]
  },
  {
   "cell_type": "code",
   "execution_count": 4,
   "metadata": {
    "colab": {
     "base_uri": "https://localhost:8080/",
     "height": 447
    },
    "id": "cFrdwBovqohS",
    "outputId": "13025296-98cd-4493-9a67-d1cec723bf77"
   },
   "outputs": [
    {
     "data": {
      "text/plain": [
       "<matplotlib.image.AxesImage at 0x7560b4191d10>"
      ]
     },
     "execution_count": 4,
     "metadata": {},
     "output_type": "execute_result"
    },
    {
     "data": {
      "image/png": "[encoded data removed]",
      "text/plain": [
       "<Figure size 640x480 with 1 Axes>"
      ]
     },
     "metadata": {},
     "output_type": "display_data"
    }
   ],
   "source": [
    "import matplotlib.pyplot as plt\n",
    "plt.imshow(images[1].permute(1, 2, 0))"
   ]
  },
  {
   "cell_type": "code",
   "execution_count": 5,
   "metadata": {
    "id": "Jcv96KTDqwOw"
   },
   "outputs": [],
   "source": [
    "import torch.nn as nn\n",
    "import torch.optim as optim"
   ]
  },
  {
   "cell_type": "code",
   "execution_count": 6,
   "metadata": {
    "id": "Kp32XyWLq0Oa"
   },
   "outputs": [],
   "source": [
    "# Assuming 2 is the number of latent dimensions and 256 hidden dimensions\n",
    "\n",
    "class VAE(nn.Module):\n",
    "    def __init__(self):\n",
    "        super(VAE, self).__init__()\n",
    "        self.encoder = nn.Sequential(\n",
    "            nn.Linear(28 * 28, 256),\n",
    "            nn.ReLU(),\n",
    "        )\n",
    "        self.z_mean = nn.Linear(256, 2)\n",
    "        self.z_log_var = nn.Linear(256, 2)\n",
    "        self.decoder = nn.Sequential(\n",
    "            nn.Linear(2, 256),\n",
    "            nn.ReLU(),\n",
    "            nn.Linear(256, 28 * 28),\n",
    "            nn.Sigmoid()\n",
    "        )\n",
    "\n",
    "    def encode(self, x):\n",
    "        h = self.encoder(x)\n",
    "        return h\n",
    "\n",
    "    def decode(self, z):\n",
    "        h = self.decoder(z)\n",
    "        return h\n",
    "\n",
    "    def reparameterize(self, mu, logvar):\n",
    "        # For standard deviation\n",
    "        std = torch.exp(0.5 * logvar)\n",
    "        # For random noise\n",
    "        eps = torch.randn_like(std)\n",
    "        return mu + eps * std # For reparameterization\n",
    "\n",
    "    def forward(self, x):\n",
    "        h = self.encode(x)\n",
    "        z_mean = self.z_mean(h)\n",
    "        z_log_var = self.z_log_var(h)\n",
    "        z = self.reparameterize(z_mean, z_log_var)\n",
    "        return self.decode(z), z_mean, z_log_var"
   ]
  },
  {
   "cell_type": "code",
   "execution_count": 23,
   "metadata": {
    "id": "nhYXUbzBvUqF"
   },
   "outputs": [],
   "source": [
    "model = VAE()\n",
    "optimizer = optim.Adam(model.parameters(), lr=1e-3)\n",
    "num_epochs = 50"
   ]
  },
  {
   "cell_type": "code",
   "execution_count": 24,
   "metadata": {
    "id": "Lyy6Omx7unwP"
   },
   "outputs": [],
   "source": [
    "def loss_function(recon_x, x, mu, logvar):\n",
    "    # Reconstruction loss\n",
    "    BCE = nn.functional.binary_cross_entropy(recon_x, x, reduction='sum')\n",
    "    KLD = -0.5 * torch.sum(1 + logvar - mu.pow(2) - logvar.exp())\n",
    "    return BCE + KLD"
   ]
  },
  {
   "cell_type": "code",
   "execution_count": 31,
   "metadata": {
    "id": "zNKxKJcwuyVS"
   },
   "outputs": [],
   "source": [
    "def train(model, train_loader, optimizer, num_epochs):\n",
    "    model.to('cuda')\n",
    "    model.train()\n",
    "    for epoch in range(num_epochs):\n",
    "        total_loss = 0\n",
    "        for batch_idx, (data, _) in enumerate(train_loader):\n",
    "            optimizer.zero_grad()\n",
    "            data = data.view(data.size(0), -1)\n",
    "            data=data.to('cuda')\n",
    "            recon_batch, mu, logvar = model(data)\n",
    "            loss = loss_function(recon_batch, data, mu, logvar)\n",
    "            loss.backward()\n",
    "            total_loss += loss.item()\n",
    "            optimizer.step()\n",
    "        print(f'Epoch [{epoch+1}/{num_epochs}], Loss: {total_loss / len(train_loader.dataset):.4f}')"
   ]
  },
  {
   "cell_type": "code",
   "execution_count": null,
   "metadata": {
    "colab": {
     "base_uri": "https://localhost:8080/"
    },
    "id": "mNEKJklDvYJr",
    "outputId": "734958a2-9848-4e07-fd29-0d1a9c1a6557"
   },
   "outputs": [
    {
     "name": "stdout",
     "output_type": "stream",
     "text": [
      "Epoch [1/50], Loss: 146.1165\n",
      "Epoch [2/50], Loss: 145.9984\n",
      "Epoch [3/50], Loss: 145.9376\n",
      "Epoch [4/50], Loss: 145.8561\n",
      "Epoch [5/50], Loss: 145.7549\n",
      "Epoch [6/50], Loss: 145.7101\n",
      "Epoch [7/50], Loss: 145.6510\n",
      "Epoch [8/50], Loss: 145.5651\n",
      "Epoch [9/50], Loss: 145.4987\n"
     ]
    }
   ],
   "source": [
    "train(model, train_loader, optimizer, num_epochs)"
   ]
  },
  {
   "cell_type": "code",
   "execution_count": 28,
   "metadata": {
    "colab": {
     "base_uri": "https://localhost:8080/",
     "height": 351
    },
    "id": "k5hXl-2l2cMp",
    "outputId": "ff3231e1-3499-406c-eee4-1939aae2d681"
   },
   "outputs": [
    {
     "data": {
      "image/png": "[encoded data removed]",
      "text/plain": [
       "<Figure size 1500x400 with 16 Axes>"
      ]
     },
     "metadata": {},
     "output_type": "display_data"
    }
   ],
   "source": [
    "def check_reconstruction(model, test_loader):\n",
    "    model.eval()  # Set the model to evaluation mode\n",
    "    model.to('cpu')\n",
    "    with torch.no_grad():\n",
    "        for data, _ in test_loader:\n",
    "            data = data.view(data.size(0), -1)  # Flatten images\n",
    "            recon_batch, _, _ = model(data)  # Get the reconstructed images\n",
    "\n",
    "            # Show the original and reconstructed images\n",
    "            n = 8\n",
    "            comparison = torch.cat([data[:n], recon_batch[:n]])\n",
    "            comparison = comparison.view(-1, 1, 28, 28)  # Reshape for plotting\n",
    "            # Plotting\n",
    "            fig, axes = plt.subplots(nrows=2, ncols=n, figsize=(15, 4))\n",
    "            for i in range(n):\n",
    "                axes[0, i].imshow(comparison[i].cpu().numpy().squeeze())\n",
    "                axes[0, i].set_title(\"Original\")\n",
    "                axes[0, i].axis('off')\n",
    "\n",
    "                axes[1, i].imshow(comparison[n + i].cpu().numpy().squeeze())\n",
    "                axes[1, i].set_title(\"Reconstructed\")\n",
    "                axes[1, i].axis('off')\n",
    "\n",
    "            plt.show()\n",
    "            break\n",
    "\n",
    "check_reconstruction(model, test_loader)"
   ]
  },
  {
   "cell_type": "code",
   "execution_count": 30,
   "metadata": {
    "colab": {
     "base_uri": "https://localhost:8080/",
     "height": 160
    },
    "id": "GO_9ZEgi36Ke",
    "outputId": "8fdfadfc-f94c-46dd-c1ae-4c481511bbce"
   },
   "outputs": [
    {
     "data": {
      "image/png": "[encoded data removed]",
      "text/plain": [
       "<Figure size 1500x200 with 8 Axes>"
      ]
     },
     "metadata": {},
     "output_type": "display_data"
    }
   ],
   "source": [
    "# CREATE NEW SAMPLES NOW\n",
    "\n",
    "num_images = 8\n",
    "model.eval()  # Set model to evaluation mode\n",
    "\n",
    "# Sample random latent vectors from a standard normal distribution\n",
    "latent_samples = torch.randn(num_images, 2)  # Assuming your latent_dim is 2\n",
    "\n",
    "# Generate fake images by passing latent samples through the decoder\n",
    "with torch.no_grad():  # No need to compute gradients\n",
    "    generated_images = model.decode(latent_samples).cpu()\n",
    "\n",
    "# Reshape generated images for visualization\n",
    "generated_images = generated_images.view(num_images, 1, 28, 28)  # (batch_size, channels, height, width)\n",
    "\n",
    "# Plot the generated images\n",
    "fig, axes = plt.subplots(1, num_images, figsize=(15, 2))\n",
    "for i in range(num_images):\n",
    "    axes[i].imshow(generated_images[i].squeeze())\n",
    "    axes[i].axis('off')\n",
    "plt.show()"
   ]
  }
 ],
 "metadata": {
  "accelerator": "GPU",
  "colab": {
   "authorship_tag": "ABX9TyMNxnO0fiNK695xeIuB3EIU",
   "gpuType": "T4",
   "include_colab_link": true,
   "provenance": []
  },
  "kernelspec": {
   "display_name": "Python (myenv)",
   "language": "python",
   "name": "myenv"
  },
  "language_info": {
   "codemirror_mode": {
    "name": "ipython",
    "version": 3
   },
   "file_extension": ".py",
   "mimetype": "text/x-python",
   "name": "python",
   "nbconvert_exporter": "python",
   "pygments_lexer": "ipython3",
   "version": "3.11.9"
  }
 },
 "nbformat": 4,
 "nbformat_minor": 4
}
